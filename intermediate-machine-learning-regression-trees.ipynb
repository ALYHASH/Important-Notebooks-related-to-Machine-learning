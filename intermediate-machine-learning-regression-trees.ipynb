{
 "cells": [
  {
   "cell_type": "markdown",
   "id": "fde41091",
   "metadata": {
    "papermill": {
     "duration": 0.010773,
     "end_time": "2024-06-27T08:32:18.835978",
     "exception": false,
     "start_time": "2024-06-27T08:32:18.825205",
     "status": "completed"
    },
    "tags": []
   },
   "source": [
    "# **Regression Trees**\n"
   ]
  },
  {
   "cell_type": "code",
   "execution_count": 1,
   "id": "d99e783c",
   "metadata": {
    "execution": {
     "iopub.execute_input": "2024-06-27T08:32:18.858854Z",
     "iopub.status.busy": "2024-06-27T08:32:18.858344Z",
     "iopub.status.idle": "2024-06-27T08:32:22.078408Z",
     "shell.execute_reply": "2024-06-27T08:32:22.077113Z"
    },
    "papermill": {
     "duration": 3.235573,
     "end_time": "2024-06-27T08:32:22.081726",
     "exception": false,
     "start_time": "2024-06-27T08:32:18.846153",
     "status": "completed"
    },
    "tags": []
   },
   "outputs": [],
   "source": [
    "# Pandas will allow us to create a dataframe of the data so it can be used and manipulated\n",
    "import pandas as pd\n",
    "# Regression Tree Algorithm\n",
    "from sklearn.tree import DecisionTreeRegressor\n",
    "# Split our data into a training and testing data\n",
    "from sklearn.model_selection import train_test_split"
   ]
  },
  {
   "cell_type": "markdown",
   "id": "688a2858",
   "metadata": {
    "papermill": {
     "duration": 0.010209,
     "end_time": "2024-06-27T08:32:22.102792",
     "exception": false,
     "start_time": "2024-06-27T08:32:22.092583",
     "status": "completed"
    },
    "tags": []
   },
   "source": [
    "## About the Dataset\n"
   ]
  },
  {
   "cell_type": "markdown",
   "id": "10a1027e",
   "metadata": {
    "papermill": {
     "duration": 0.01021,
     "end_time": "2024-06-27T08:32:22.123179",
     "exception": false,
     "start_time": "2024-06-27T08:32:22.112969",
     "status": "completed"
    },
    "tags": []
   },
   "source": [
    "Imagine you are a data scientist working for a real estate company that is planning to invest in Boston real estate. You have collected information about various areas of Boston and are tasked with created a model that can predict the median price of houses for that area so it can be used to make offers.\n",
    "\n",
    "The dataset had information on areas/towns not individual houses, the features are\n",
    "\n",
    "CRIM: Crime per capita\n",
    "\n",
    "ZN: Proportion of residential land zoned for lots over 25,000 sq.ft.\n",
    "\n",
    "INDUS: Proportion of non-retail business acres per town\n",
    "\n",
    "CHAS: Charles River dummy variable (= 1 if tract bounds river; 0 otherwise)\n",
    "\n",
    "NOX: Nitric oxides concentration (parts per 10 million)\n",
    "\n",
    "RM: Average number of rooms per dwelling\n",
    "\n",
    "AGE: Proportion of owner-occupied units built prior to 1940\n",
    "\n",
    "DIS: Weighted distances to ﬁve Boston employment centers\n",
    "\n",
    "RAD: Index of accessibility to radial highways\n",
    "\n",
    "TAX: Full-value property-tax rate per $10,000\n",
    "\n",
    "PTRAIO: Pupil-teacher ratio by town\n",
    "\n",
    "LSTAT: Percent lower status of the population\n",
    "\n",
    "MEDV: Median value of owner-occupied homes in $1000s\n"
   ]
  },
  {
   "cell_type": "markdown",
   "id": "b9676c49",
   "metadata": {
    "papermill": {
     "duration": 0.01062,
     "end_time": "2024-06-27T08:32:22.144998",
     "exception": false,
     "start_time": "2024-06-27T08:32:22.134378",
     "status": "completed"
    },
    "tags": []
   },
   "source": [
    "## Read the Data\n"
   ]
  },
  {
   "cell_type": "code",
   "execution_count": 2,
   "id": "553d8278",
   "metadata": {
    "execution": {
     "iopub.execute_input": "2024-06-27T08:32:22.170362Z",
     "iopub.status.busy": "2024-06-27T08:32:22.169262Z",
     "iopub.status.idle": "2024-06-27T08:32:23.094321Z",
     "shell.execute_reply": "2024-06-27T08:32:23.093006Z"
    },
    "papermill": {
     "duration": 0.942373,
     "end_time": "2024-06-27T08:32:23.097347",
     "exception": false,
     "start_time": "2024-06-27T08:32:22.154974",
     "status": "completed"
    },
    "tags": []
   },
   "outputs": [],
   "source": [
    "data = pd.read_csv(\"https://cf-courses-data.s3.us.cloud-object-storage.appdomain.cloud/IBMDeveloperSkillsNetwork-ML0101EN-SkillsNetwork/labs/Module%203/data/real_estate_data.csv\")"
   ]
  },
  {
   "cell_type": "code",
   "execution_count": 3,
   "id": "ef63d0e3",
   "metadata": {
    "execution": {
     "iopub.execute_input": "2024-06-27T08:32:23.122916Z",
     "iopub.status.busy": "2024-06-27T08:32:23.122346Z",
     "iopub.status.idle": "2024-06-27T08:32:23.167783Z",
     "shell.execute_reply": "2024-06-27T08:32:23.166027Z"
    },
    "papermill": {
     "duration": 0.062701,
     "end_time": "2024-06-27T08:32:23.170957",
     "exception": false,
     "start_time": "2024-06-27T08:32:23.108256",
     "status": "completed"
    },
    "tags": []
   },
   "outputs": [
    {
     "data": {
      "text/html": [
       "<div>\n",
       "<style scoped>\n",
       "    .dataframe tbody tr th:only-of-type {\n",
       "        vertical-align: middle;\n",
       "    }\n",
       "\n",
       "    .dataframe tbody tr th {\n",
       "        vertical-align: top;\n",
       "    }\n",
       "\n",
       "    .dataframe thead th {\n",
       "        text-align: right;\n",
       "    }\n",
       "</style>\n",
       "<table border=\"1\" class=\"dataframe\">\n",
       "  <thead>\n",
       "    <tr style=\"text-align: right;\">\n",
       "      <th></th>\n",
       "      <th>CRIM</th>\n",
       "      <th>ZN</th>\n",
       "      <th>INDUS</th>\n",
       "      <th>CHAS</th>\n",
       "      <th>NOX</th>\n",
       "      <th>RM</th>\n",
       "      <th>AGE</th>\n",
       "      <th>DIS</th>\n",
       "      <th>RAD</th>\n",
       "      <th>TAX</th>\n",
       "      <th>PTRATIO</th>\n",
       "      <th>LSTAT</th>\n",
       "      <th>MEDV</th>\n",
       "    </tr>\n",
       "  </thead>\n",
       "  <tbody>\n",
       "    <tr>\n",
       "      <th>0</th>\n",
       "      <td>0.00632</td>\n",
       "      <td>18.0</td>\n",
       "      <td>2.31</td>\n",
       "      <td>0.0</td>\n",
       "      <td>0.538</td>\n",
       "      <td>6.575</td>\n",
       "      <td>65.2</td>\n",
       "      <td>4.0900</td>\n",
       "      <td>1</td>\n",
       "      <td>296</td>\n",
       "      <td>15.3</td>\n",
       "      <td>4.98</td>\n",
       "      <td>24.0</td>\n",
       "    </tr>\n",
       "    <tr>\n",
       "      <th>1</th>\n",
       "      <td>0.02731</td>\n",
       "      <td>0.0</td>\n",
       "      <td>7.07</td>\n",
       "      <td>0.0</td>\n",
       "      <td>0.469</td>\n",
       "      <td>6.421</td>\n",
       "      <td>78.9</td>\n",
       "      <td>4.9671</td>\n",
       "      <td>2</td>\n",
       "      <td>242</td>\n",
       "      <td>17.8</td>\n",
       "      <td>9.14</td>\n",
       "      <td>21.6</td>\n",
       "    </tr>\n",
       "    <tr>\n",
       "      <th>2</th>\n",
       "      <td>0.02729</td>\n",
       "      <td>0.0</td>\n",
       "      <td>7.07</td>\n",
       "      <td>0.0</td>\n",
       "      <td>0.469</td>\n",
       "      <td>7.185</td>\n",
       "      <td>61.1</td>\n",
       "      <td>4.9671</td>\n",
       "      <td>2</td>\n",
       "      <td>242</td>\n",
       "      <td>17.8</td>\n",
       "      <td>4.03</td>\n",
       "      <td>34.7</td>\n",
       "    </tr>\n",
       "    <tr>\n",
       "      <th>3</th>\n",
       "      <td>0.03237</td>\n",
       "      <td>0.0</td>\n",
       "      <td>2.18</td>\n",
       "      <td>0.0</td>\n",
       "      <td>0.458</td>\n",
       "      <td>6.998</td>\n",
       "      <td>45.8</td>\n",
       "      <td>6.0622</td>\n",
       "      <td>3</td>\n",
       "      <td>222</td>\n",
       "      <td>18.7</td>\n",
       "      <td>2.94</td>\n",
       "      <td>33.4</td>\n",
       "    </tr>\n",
       "    <tr>\n",
       "      <th>4</th>\n",
       "      <td>0.06905</td>\n",
       "      <td>0.0</td>\n",
       "      <td>2.18</td>\n",
       "      <td>0.0</td>\n",
       "      <td>0.458</td>\n",
       "      <td>7.147</td>\n",
       "      <td>54.2</td>\n",
       "      <td>6.0622</td>\n",
       "      <td>3</td>\n",
       "      <td>222</td>\n",
       "      <td>18.7</td>\n",
       "      <td>NaN</td>\n",
       "      <td>36.2</td>\n",
       "    </tr>\n",
       "  </tbody>\n",
       "</table>\n",
       "</div>"
      ],
      "text/plain": [
       "      CRIM    ZN  INDUS  CHAS    NOX     RM   AGE     DIS  RAD  TAX  PTRATIO  \\\n",
       "0  0.00632  18.0   2.31   0.0  0.538  6.575  65.2  4.0900    1  296     15.3   \n",
       "1  0.02731   0.0   7.07   0.0  0.469  6.421  78.9  4.9671    2  242     17.8   \n",
       "2  0.02729   0.0   7.07   0.0  0.469  7.185  61.1  4.9671    2  242     17.8   \n",
       "3  0.03237   0.0   2.18   0.0  0.458  6.998  45.8  6.0622    3  222     18.7   \n",
       "4  0.06905   0.0   2.18   0.0  0.458  7.147  54.2  6.0622    3  222     18.7   \n",
       "\n",
       "   LSTAT  MEDV  \n",
       "0   4.98  24.0  \n",
       "1   9.14  21.6  \n",
       "2   4.03  34.7  \n",
       "3   2.94  33.4  \n",
       "4    NaN  36.2  "
      ]
     },
     "execution_count": 3,
     "metadata": {},
     "output_type": "execute_result"
    }
   ],
   "source": [
    "data.head()"
   ]
  },
  {
   "cell_type": "markdown",
   "id": "a5f37c08",
   "metadata": {
    "papermill": {
     "duration": 0.011522,
     "end_time": "2024-06-27T08:32:23.193548",
     "exception": false,
     "start_time": "2024-06-27T08:32:23.182026",
     "status": "completed"
    },
    "tags": []
   },
   "source": [
    "**Now lets learn about the size of our data, there are 506 rows and 13 columns**\n"
   ]
  },
  {
   "cell_type": "code",
   "execution_count": 4,
   "id": "791c6896",
   "metadata": {
    "execution": {
     "iopub.execute_input": "2024-06-27T08:32:23.220016Z",
     "iopub.status.busy": "2024-06-27T08:32:23.219581Z",
     "iopub.status.idle": "2024-06-27T08:32:23.227958Z",
     "shell.execute_reply": "2024-06-27T08:32:23.226513Z"
    },
    "papermill": {
     "duration": 0.025116,
     "end_time": "2024-06-27T08:32:23.230833",
     "exception": false,
     "start_time": "2024-06-27T08:32:23.205717",
     "status": "completed"
    },
    "tags": []
   },
   "outputs": [
    {
     "data": {
      "text/plain": [
       "(506, 13)"
      ]
     },
     "execution_count": 4,
     "metadata": {},
     "output_type": "execute_result"
    }
   ],
   "source": [
    "data.shape"
   ]
  },
  {
   "cell_type": "markdown",
   "id": "196315ee",
   "metadata": {
    "papermill": {
     "duration": 0.010272,
     "end_time": "2024-06-27T08:32:23.252105",
     "exception": false,
     "start_time": "2024-06-27T08:32:23.241833",
     "status": "completed"
    },
    "tags": []
   },
   "source": [
    "**Most of the data is valid, there are rows with missing values which we will deal with in pre-processing**\n"
   ]
  },
  {
   "cell_type": "code",
   "execution_count": 5,
   "id": "093fd38f",
   "metadata": {
    "execution": {
     "iopub.execute_input": "2024-06-27T08:32:23.275408Z",
     "iopub.status.busy": "2024-06-27T08:32:23.274969Z",
     "iopub.status.idle": "2024-06-27T08:32:23.286935Z",
     "shell.execute_reply": "2024-06-27T08:32:23.285731Z"
    },
    "papermill": {
     "duration": 0.027108,
     "end_time": "2024-06-27T08:32:23.289625",
     "exception": false,
     "start_time": "2024-06-27T08:32:23.262517",
     "status": "completed"
    },
    "tags": []
   },
   "outputs": [
    {
     "data": {
      "text/plain": [
       "CRIM       20\n",
       "ZN         20\n",
       "INDUS      20\n",
       "CHAS       20\n",
       "NOX         0\n",
       "RM          0\n",
       "AGE        20\n",
       "DIS         0\n",
       "RAD         0\n",
       "TAX         0\n",
       "PTRATIO     0\n",
       "LSTAT      20\n",
       "MEDV        0\n",
       "dtype: int64"
      ]
     },
     "execution_count": 5,
     "metadata": {},
     "output_type": "execute_result"
    }
   ],
   "source": [
    "data.isna().sum()"
   ]
  },
  {
   "cell_type": "markdown",
   "id": "4a971879",
   "metadata": {
    "papermill": {
     "duration": 0.010748,
     "end_time": "2024-06-27T08:32:23.311822",
     "exception": false,
     "start_time": "2024-06-27T08:32:23.301074",
     "status": "completed"
    },
    "tags": []
   },
   "source": [
    "## Data Pre-Processing\n"
   ]
  },
  {
   "cell_type": "markdown",
   "id": "c558c8bb",
   "metadata": {
    "papermill": {
     "duration": 0.010493,
     "end_time": "2024-06-27T08:32:23.334014",
     "exception": false,
     "start_time": "2024-06-27T08:32:23.323521",
     "status": "completed"
    },
    "tags": []
   },
   "source": [
    "**First lets drop the rows with missing values because we have enough data in our dataset**\n"
   ]
  },
  {
   "cell_type": "code",
   "execution_count": 6,
   "id": "46db3eec",
   "metadata": {
    "execution": {
     "iopub.execute_input": "2024-06-27T08:32:23.357531Z",
     "iopub.status.busy": "2024-06-27T08:32:23.357126Z",
     "iopub.status.idle": "2024-06-27T08:32:23.368625Z",
     "shell.execute_reply": "2024-06-27T08:32:23.367477Z"
    },
    "papermill": {
     "duration": 0.026541,
     "end_time": "2024-06-27T08:32:23.371360",
     "exception": false,
     "start_time": "2024-06-27T08:32:23.344819",
     "status": "completed"
    },
    "tags": []
   },
   "outputs": [],
   "source": [
    "data.dropna(inplace=True)"
   ]
  },
  {
   "cell_type": "markdown",
   "id": "6345c38c",
   "metadata": {
    "papermill": {
     "duration": 0.011206,
     "end_time": "2024-06-27T08:32:23.393782",
     "exception": false,
     "start_time": "2024-06-27T08:32:23.382576",
     "status": "completed"
    },
    "tags": []
   },
   "source": [
    "**Now we can see our dataset has no missing values**\n"
   ]
  },
  {
   "cell_type": "code",
   "execution_count": 7,
   "id": "1265839d",
   "metadata": {
    "execution": {
     "iopub.execute_input": "2024-06-27T08:32:23.418306Z",
     "iopub.status.busy": "2024-06-27T08:32:23.417574Z",
     "iopub.status.idle": "2024-06-27T08:32:23.430807Z",
     "shell.execute_reply": "2024-06-27T08:32:23.428990Z"
    },
    "papermill": {
     "duration": 0.029667,
     "end_time": "2024-06-27T08:32:23.434437",
     "exception": false,
     "start_time": "2024-06-27T08:32:23.404770",
     "status": "completed"
    },
    "tags": []
   },
   "outputs": [
    {
     "data": {
      "text/plain": [
       "CRIM       0\n",
       "ZN         0\n",
       "INDUS      0\n",
       "CHAS       0\n",
       "NOX        0\n",
       "RM         0\n",
       "AGE        0\n",
       "DIS        0\n",
       "RAD        0\n",
       "TAX        0\n",
       "PTRATIO    0\n",
       "LSTAT      0\n",
       "MEDV       0\n",
       "dtype: int64"
      ]
     },
     "execution_count": 7,
     "metadata": {},
     "output_type": "execute_result"
    }
   ],
   "source": [
    "data.isna().sum()"
   ]
  },
  {
   "cell_type": "markdown",
   "id": "6b993f80",
   "metadata": {
    "papermill": {
     "duration": 0.012671,
     "end_time": "2024-06-27T08:32:23.459160",
     "exception": false,
     "start_time": "2024-06-27T08:32:23.446489",
     "status": "completed"
    },
    "tags": []
   },
   "source": [
    "**Lets split the dataset into our features and what we are predicting (target)**\n"
   ]
  },
  {
   "cell_type": "code",
   "execution_count": 8,
   "id": "69e1a030",
   "metadata": {
    "execution": {
     "iopub.execute_input": "2024-06-27T08:32:23.483826Z",
     "iopub.status.busy": "2024-06-27T08:32:23.483399Z",
     "iopub.status.idle": "2024-06-27T08:32:23.492952Z",
     "shell.execute_reply": "2024-06-27T08:32:23.491268Z"
    },
    "papermill": {
     "duration": 0.025222,
     "end_time": "2024-06-27T08:32:23.495619",
     "exception": false,
     "start_time": "2024-06-27T08:32:23.470397",
     "status": "completed"
    },
    "tags": []
   },
   "outputs": [],
   "source": [
    "X = data.drop(columns=[\"MEDV\"])\n",
    "Y = data[\"MEDV\"]"
   ]
  },
  {
   "cell_type": "code",
   "execution_count": 9,
   "id": "b41416f3",
   "metadata": {
    "execution": {
     "iopub.execute_input": "2024-06-27T08:32:23.519908Z",
     "iopub.status.busy": "2024-06-27T08:32:23.519431Z",
     "iopub.status.idle": "2024-06-27T08:32:23.543221Z",
     "shell.execute_reply": "2024-06-27T08:32:23.541936Z"
    },
    "papermill": {
     "duration": 0.039122,
     "end_time": "2024-06-27T08:32:23.545936",
     "exception": false,
     "start_time": "2024-06-27T08:32:23.506814",
     "status": "completed"
    },
    "tags": []
   },
   "outputs": [
    {
     "data": {
      "text/html": [
       "<div>\n",
       "<style scoped>\n",
       "    .dataframe tbody tr th:only-of-type {\n",
       "        vertical-align: middle;\n",
       "    }\n",
       "\n",
       "    .dataframe tbody tr th {\n",
       "        vertical-align: top;\n",
       "    }\n",
       "\n",
       "    .dataframe thead th {\n",
       "        text-align: right;\n",
       "    }\n",
       "</style>\n",
       "<table border=\"1\" class=\"dataframe\">\n",
       "  <thead>\n",
       "    <tr style=\"text-align: right;\">\n",
       "      <th></th>\n",
       "      <th>CRIM</th>\n",
       "      <th>ZN</th>\n",
       "      <th>INDUS</th>\n",
       "      <th>CHAS</th>\n",
       "      <th>NOX</th>\n",
       "      <th>RM</th>\n",
       "      <th>AGE</th>\n",
       "      <th>DIS</th>\n",
       "      <th>RAD</th>\n",
       "      <th>TAX</th>\n",
       "      <th>PTRATIO</th>\n",
       "      <th>LSTAT</th>\n",
       "    </tr>\n",
       "  </thead>\n",
       "  <tbody>\n",
       "    <tr>\n",
       "      <th>0</th>\n",
       "      <td>0.00632</td>\n",
       "      <td>18.0</td>\n",
       "      <td>2.31</td>\n",
       "      <td>0.0</td>\n",
       "      <td>0.538</td>\n",
       "      <td>6.575</td>\n",
       "      <td>65.2</td>\n",
       "      <td>4.0900</td>\n",
       "      <td>1</td>\n",
       "      <td>296</td>\n",
       "      <td>15.3</td>\n",
       "      <td>4.98</td>\n",
       "    </tr>\n",
       "    <tr>\n",
       "      <th>1</th>\n",
       "      <td>0.02731</td>\n",
       "      <td>0.0</td>\n",
       "      <td>7.07</td>\n",
       "      <td>0.0</td>\n",
       "      <td>0.469</td>\n",
       "      <td>6.421</td>\n",
       "      <td>78.9</td>\n",
       "      <td>4.9671</td>\n",
       "      <td>2</td>\n",
       "      <td>242</td>\n",
       "      <td>17.8</td>\n",
       "      <td>9.14</td>\n",
       "    </tr>\n",
       "    <tr>\n",
       "      <th>2</th>\n",
       "      <td>0.02729</td>\n",
       "      <td>0.0</td>\n",
       "      <td>7.07</td>\n",
       "      <td>0.0</td>\n",
       "      <td>0.469</td>\n",
       "      <td>7.185</td>\n",
       "      <td>61.1</td>\n",
       "      <td>4.9671</td>\n",
       "      <td>2</td>\n",
       "      <td>242</td>\n",
       "      <td>17.8</td>\n",
       "      <td>4.03</td>\n",
       "    </tr>\n",
       "    <tr>\n",
       "      <th>3</th>\n",
       "      <td>0.03237</td>\n",
       "      <td>0.0</td>\n",
       "      <td>2.18</td>\n",
       "      <td>0.0</td>\n",
       "      <td>0.458</td>\n",
       "      <td>6.998</td>\n",
       "      <td>45.8</td>\n",
       "      <td>6.0622</td>\n",
       "      <td>3</td>\n",
       "      <td>222</td>\n",
       "      <td>18.7</td>\n",
       "      <td>2.94</td>\n",
       "    </tr>\n",
       "    <tr>\n",
       "      <th>5</th>\n",
       "      <td>0.02985</td>\n",
       "      <td>0.0</td>\n",
       "      <td>2.18</td>\n",
       "      <td>0.0</td>\n",
       "      <td>0.458</td>\n",
       "      <td>6.430</td>\n",
       "      <td>58.7</td>\n",
       "      <td>6.0622</td>\n",
       "      <td>3</td>\n",
       "      <td>222</td>\n",
       "      <td>18.7</td>\n",
       "      <td>5.21</td>\n",
       "    </tr>\n",
       "  </tbody>\n",
       "</table>\n",
       "</div>"
      ],
      "text/plain": [
       "      CRIM    ZN  INDUS  CHAS    NOX     RM   AGE     DIS  RAD  TAX  PTRATIO  \\\n",
       "0  0.00632  18.0   2.31   0.0  0.538  6.575  65.2  4.0900    1  296     15.3   \n",
       "1  0.02731   0.0   7.07   0.0  0.469  6.421  78.9  4.9671    2  242     17.8   \n",
       "2  0.02729   0.0   7.07   0.0  0.469  7.185  61.1  4.9671    2  242     17.8   \n",
       "3  0.03237   0.0   2.18   0.0  0.458  6.998  45.8  6.0622    3  222     18.7   \n",
       "5  0.02985   0.0   2.18   0.0  0.458  6.430  58.7  6.0622    3  222     18.7   \n",
       "\n",
       "   LSTAT  \n",
       "0   4.98  \n",
       "1   9.14  \n",
       "2   4.03  \n",
       "3   2.94  \n",
       "5   5.21  "
      ]
     },
     "execution_count": 9,
     "metadata": {},
     "output_type": "execute_result"
    }
   ],
   "source": [
    "X.head()"
   ]
  },
  {
   "cell_type": "code",
   "execution_count": 10,
   "id": "19cc0705",
   "metadata": {
    "execution": {
     "iopub.execute_input": "2024-06-27T08:32:23.570892Z",
     "iopub.status.busy": "2024-06-27T08:32:23.570511Z",
     "iopub.status.idle": "2024-06-27T08:32:23.579716Z",
     "shell.execute_reply": "2024-06-27T08:32:23.578434Z"
    },
    "papermill": {
     "duration": 0.025263,
     "end_time": "2024-06-27T08:32:23.582723",
     "exception": false,
     "start_time": "2024-06-27T08:32:23.557460",
     "status": "completed"
    },
    "tags": []
   },
   "outputs": [
    {
     "data": {
      "text/plain": [
       "0    24.0\n",
       "1    21.6\n",
       "2    34.7\n",
       "3    33.4\n",
       "5    28.7\n",
       "Name: MEDV, dtype: float64"
      ]
     },
     "execution_count": 10,
     "metadata": {},
     "output_type": "execute_result"
    }
   ],
   "source": [
    "Y.head()"
   ]
  },
  {
   "cell_type": "markdown",
   "id": "207b6810",
   "metadata": {
    "papermill": {
     "duration": 0.011697,
     "end_time": "2024-06-27T08:32:23.606297",
     "exception": false,
     "start_time": "2024-06-27T08:32:23.594600",
     "status": "completed"
    },
    "tags": []
   },
   "source": [
    "**Finally lets split our data into a training and testing dataset using `train_test_split` from `sklearn.model_selection`**\n"
   ]
  },
  {
   "cell_type": "code",
   "execution_count": 11,
   "id": "fdb0242e",
   "metadata": {
    "execution": {
     "iopub.execute_input": "2024-06-27T08:32:23.632024Z",
     "iopub.status.busy": "2024-06-27T08:32:23.631617Z",
     "iopub.status.idle": "2024-06-27T08:32:23.727995Z",
     "shell.execute_reply": "2024-06-27T08:32:23.726733Z"
    },
    "papermill": {
     "duration": 0.111827,
     "end_time": "2024-06-27T08:32:23.730613",
     "exception": false,
     "start_time": "2024-06-27T08:32:23.618786",
     "status": "completed"
    },
    "tags": []
   },
   "outputs": [],
   "source": [
    "X_train, X_test, Y_train, Y_test = train_test_split(X, Y, test_size=.2, random_state=1)"
   ]
  },
  {
   "cell_type": "markdown",
   "id": "8157d9f1",
   "metadata": {
    "papermill": {
     "duration": 0.012372,
     "end_time": "2024-06-27T08:32:23.755475",
     "exception": false,
     "start_time": "2024-06-27T08:32:23.743103",
     "status": "completed"
    },
    "tags": []
   },
   "source": [
    "## Create Regression Tree\n"
   ]
  },
  {
   "cell_type": "markdown",
   "id": "9d0e910f",
   "metadata": {
    "papermill": {
     "duration": 0.011961,
     "end_time": "2024-06-27T08:32:23.780359",
     "exception": false,
     "start_time": "2024-06-27T08:32:23.768398",
     "status": "completed"
    },
    "tags": []
   },
   "source": [
    "Regression Trees are implemented using `DecisionTreeRegressor` from `sklearn.tree`\n",
    "\n",
    "The important parameters of `DecisionTreeRegressor` are\n",
    "\n",
    "`criterion`: {\"mse\", \"friedman_mse\", \"mae\", \"poisson\"} - The function used to measure error\n",
    "\n",
    "`max_depth` - The max depth the tree can be\n",
    "\n",
    "`min_samples_split` - The minimum number of samples required to split a node\n",
    "\n",
    "`min_samples_leaf` - The minimum number of samples that a leaf can contain\n",
    "\n",
    "`max_features`: {\"auto\", \"sqrt\", \"log2\"} - The number of feature we examine looking for the best one, used to speed up training\n"
   ]
  },
  {
   "cell_type": "markdown",
   "id": "f02f0469",
   "metadata": {
    "papermill": {
     "duration": 0.023752,
     "end_time": "2024-06-27T08:32:23.819297",
     "exception": false,
     "start_time": "2024-06-27T08:32:23.795545",
     "status": "completed"
    },
    "tags": []
   },
   "source": [
    "**First lets start by creating a `DecisionTreeRegressor` object,  setting the `criterion` parameter to `squared_error` for  Mean Squared Error**\n"
   ]
  },
  {
   "cell_type": "code",
   "execution_count": 12,
   "id": "685a73aa",
   "metadata": {
    "execution": {
     "iopub.execute_input": "2024-06-27T08:32:23.855245Z",
     "iopub.status.busy": "2024-06-27T08:32:23.854154Z",
     "iopub.status.idle": "2024-06-27T08:32:23.861251Z",
     "shell.execute_reply": "2024-06-27T08:32:23.859583Z"
    },
    "papermill": {
     "duration": 0.025883,
     "end_time": "2024-06-27T08:32:23.864308",
     "exception": false,
     "start_time": "2024-06-27T08:32:23.838425",
     "status": "completed"
    },
    "tags": []
   },
   "outputs": [],
   "source": [
    "regression_tree = DecisionTreeRegressor(criterion = 'squared_error')"
   ]
  },
  {
   "cell_type": "markdown",
   "id": "08595c9e",
   "metadata": {
    "papermill": {
     "duration": 0.011018,
     "end_time": "2024-06-27T08:32:23.887430",
     "exception": false,
     "start_time": "2024-06-27T08:32:23.876412",
     "status": "completed"
    },
    "tags": []
   },
   "source": [
    "## Training\n"
   ]
  },
  {
   "cell_type": "markdown",
   "id": "1cae8442",
   "metadata": {
    "papermill": {
     "duration": 0.011136,
     "end_time": "2024-06-27T08:32:23.912734",
     "exception": false,
     "start_time": "2024-06-27T08:32:23.901598",
     "status": "completed"
    },
    "tags": []
   },
   "source": [
    "**Now lets train our model using the `fit` method on the `DecisionTreeRegressor` object providing our training data**\n"
   ]
  },
  {
   "cell_type": "code",
   "execution_count": 13,
   "id": "7650eafb",
   "metadata": {
    "execution": {
     "iopub.execute_input": "2024-06-27T08:32:23.943068Z",
     "iopub.status.busy": "2024-06-27T08:32:23.942586Z",
     "iopub.status.idle": "2024-06-27T08:32:23.966384Z",
     "shell.execute_reply": "2024-06-27T08:32:23.964375Z"
    },
    "papermill": {
     "duration": 0.049758,
     "end_time": "2024-06-27T08:32:23.977157",
     "exception": false,
     "start_time": "2024-06-27T08:32:23.927399",
     "status": "completed"
    },
    "tags": []
   },
   "outputs": [
    {
     "data": {
      "text/html": [
       "<style>#sk-container-id-1 {color: black;background-color: white;}#sk-container-id-1 pre{padding: 0;}#sk-container-id-1 div.sk-toggleable {background-color: white;}#sk-container-id-1 label.sk-toggleable__label {cursor: pointer;display: block;width: 100%;margin-bottom: 0;padding: 0.3em;box-sizing: border-box;text-align: center;}#sk-container-id-1 label.sk-toggleable__label-arrow:before {content: \"▸\";float: left;margin-right: 0.25em;color: #696969;}#sk-container-id-1 label.sk-toggleable__label-arrow:hover:before {color: black;}#sk-container-id-1 div.sk-estimator:hover label.sk-toggleable__label-arrow:before {color: black;}#sk-container-id-1 div.sk-toggleable__content {max-height: 0;max-width: 0;overflow: hidden;text-align: left;background-color: #f0f8ff;}#sk-container-id-1 div.sk-toggleable__content pre {margin: 0.2em;color: black;border-radius: 0.25em;background-color: #f0f8ff;}#sk-container-id-1 input.sk-toggleable__control:checked~div.sk-toggleable__content {max-height: 200px;max-width: 100%;overflow: auto;}#sk-container-id-1 input.sk-toggleable__control:checked~label.sk-toggleable__label-arrow:before {content: \"▾\";}#sk-container-id-1 div.sk-estimator input.sk-toggleable__control:checked~label.sk-toggleable__label {background-color: #d4ebff;}#sk-container-id-1 div.sk-label input.sk-toggleable__control:checked~label.sk-toggleable__label {background-color: #d4ebff;}#sk-container-id-1 input.sk-hidden--visually {border: 0;clip: rect(1px 1px 1px 1px);clip: rect(1px, 1px, 1px, 1px);height: 1px;margin: -1px;overflow: hidden;padding: 0;position: absolute;width: 1px;}#sk-container-id-1 div.sk-estimator {font-family: monospace;background-color: #f0f8ff;border: 1px dotted black;border-radius: 0.25em;box-sizing: border-box;margin-bottom: 0.5em;}#sk-container-id-1 div.sk-estimator:hover {background-color: #d4ebff;}#sk-container-id-1 div.sk-parallel-item::after {content: \"\";width: 100%;border-bottom: 1px solid gray;flex-grow: 1;}#sk-container-id-1 div.sk-label:hover label.sk-toggleable__label {background-color: #d4ebff;}#sk-container-id-1 div.sk-serial::before {content: \"\";position: absolute;border-left: 1px solid gray;box-sizing: border-box;top: 0;bottom: 0;left: 50%;z-index: 0;}#sk-container-id-1 div.sk-serial {display: flex;flex-direction: column;align-items: center;background-color: white;padding-right: 0.2em;padding-left: 0.2em;position: relative;}#sk-container-id-1 div.sk-item {position: relative;z-index: 1;}#sk-container-id-1 div.sk-parallel {display: flex;align-items: stretch;justify-content: center;background-color: white;position: relative;}#sk-container-id-1 div.sk-item::before, #sk-container-id-1 div.sk-parallel-item::before {content: \"\";position: absolute;border-left: 1px solid gray;box-sizing: border-box;top: 0;bottom: 0;left: 50%;z-index: -1;}#sk-container-id-1 div.sk-parallel-item {display: flex;flex-direction: column;z-index: 1;position: relative;background-color: white;}#sk-container-id-1 div.sk-parallel-item:first-child::after {align-self: flex-end;width: 50%;}#sk-container-id-1 div.sk-parallel-item:last-child::after {align-self: flex-start;width: 50%;}#sk-container-id-1 div.sk-parallel-item:only-child::after {width: 0;}#sk-container-id-1 div.sk-dashed-wrapped {border: 1px dashed gray;margin: 0 0.4em 0.5em 0.4em;box-sizing: border-box;padding-bottom: 0.4em;background-color: white;}#sk-container-id-1 div.sk-label label {font-family: monospace;font-weight: bold;display: inline-block;line-height: 1.2em;}#sk-container-id-1 div.sk-label-container {text-align: center;}#sk-container-id-1 div.sk-container {/* jupyter's `normalize.less` sets `[hidden] { display: none; }` but bootstrap.min.css set `[hidden] { display: none !important; }` so we also need the `!important` here to be able to override the default hidden behavior on the sphinx rendered scikit-learn.org. See: https://github.com/scikit-learn/scikit-learn/issues/21755 */display: inline-block !important;position: relative;}#sk-container-id-1 div.sk-text-repr-fallback {display: none;}</style><div id=\"sk-container-id-1\" class=\"sk-top-container\"><div class=\"sk-text-repr-fallback\"><pre>DecisionTreeRegressor()</pre><b>In a Jupyter environment, please rerun this cell to show the HTML representation or trust the notebook. <br />On GitHub, the HTML representation is unable to render, please try loading this page with nbviewer.org.</b></div><div class=\"sk-container\" hidden><div class=\"sk-item\"><div class=\"sk-estimator sk-toggleable\"><input class=\"sk-toggleable__control sk-hidden--visually\" id=\"sk-estimator-id-1\" type=\"checkbox\" checked><label for=\"sk-estimator-id-1\" class=\"sk-toggleable__label sk-toggleable__label-arrow\">DecisionTreeRegressor</label><div class=\"sk-toggleable__content\"><pre>DecisionTreeRegressor()</pre></div></div></div></div></div>"
      ],
      "text/plain": [
       "DecisionTreeRegressor()"
      ]
     },
     "execution_count": 13,
     "metadata": {},
     "output_type": "execute_result"
    }
   ],
   "source": [
    "regression_tree.fit(X_train, Y_train)"
   ]
  },
  {
   "cell_type": "markdown",
   "id": "1c4ab1db",
   "metadata": {
    "papermill": {
     "duration": 0.016324,
     "end_time": "2024-06-27T08:32:24.012915",
     "exception": false,
     "start_time": "2024-06-27T08:32:23.996591",
     "status": "completed"
    },
    "tags": []
   },
   "source": [
    "## Evaluation\n"
   ]
  },
  {
   "cell_type": "markdown",
   "id": "ab2aeb45",
   "metadata": {
    "papermill": {
     "duration": 0.011398,
     "end_time": "2024-06-27T08:32:24.039669",
     "exception": false,
     "start_time": "2024-06-27T08:32:24.028271",
     "status": "completed"
    },
    "tags": []
   },
   "source": [
    "**To evaluate our dataset we will use the `score` method of the `DecisionTreeRegressor` object providing our testing data, this number is the $R^2$ value which indicates the coefficient of determination**\n"
   ]
  },
  {
   "cell_type": "code",
   "execution_count": 14,
   "id": "79eec12b",
   "metadata": {
    "execution": {
     "iopub.execute_input": "2024-06-27T08:32:24.066941Z",
     "iopub.status.busy": "2024-06-27T08:32:24.066425Z",
     "iopub.status.idle": "2024-06-27T08:32:24.079452Z",
     "shell.execute_reply": "2024-06-27T08:32:24.078123Z"
    },
    "papermill": {
     "duration": 0.030546,
     "end_time": "2024-06-27T08:32:24.082528",
     "exception": false,
     "start_time": "2024-06-27T08:32:24.051982",
     "status": "completed"
    },
    "tags": []
   },
   "outputs": [
    {
     "data": {
      "text/plain": [
       "0.838529030165598"
      ]
     },
     "execution_count": 14,
     "metadata": {},
     "output_type": "execute_result"
    }
   ],
   "source": [
    "regression_tree.score(X_test, Y_test)"
   ]
  },
  {
   "cell_type": "markdown",
   "id": "29ebc764",
   "metadata": {
    "papermill": {
     "duration": 0.01665,
     "end_time": "2024-06-27T08:32:24.116493",
     "exception": false,
     "start_time": "2024-06-27T08:32:24.099843",
     "status": "completed"
    },
    "tags": []
   },
   "source": [
    "**We can also find the average error in our testing set which is the average error in median home value prediction**"
   ]
  },
  {
   "cell_type": "code",
   "execution_count": 15,
   "id": "8ddeddea",
   "metadata": {
    "execution": {
     "iopub.execute_input": "2024-06-27T08:32:24.146498Z",
     "iopub.status.busy": "2024-06-27T08:32:24.145989Z",
     "iopub.status.idle": "2024-06-27T08:32:24.156565Z",
     "shell.execute_reply": "2024-06-27T08:32:24.155118Z"
    },
    "papermill": {
     "duration": 0.027442,
     "end_time": "2024-06-27T08:32:24.159307",
     "exception": false,
     "start_time": "2024-06-27T08:32:24.131865",
     "status": "completed"
    },
    "tags": []
   },
   "outputs": [
    {
     "name": "stdout",
     "output_type": "stream",
     "text": [
      "$ 2710.126582278481\n"
     ]
    }
   ],
   "source": [
    "prediction = regression_tree.predict(X_test)\n",
    "\n",
    "print(\"$\",(prediction - Y_test).abs().mean()*1000)"
   ]
  },
  {
   "cell_type": "markdown",
   "id": "8f1e3d6e",
   "metadata": {
    "papermill": {
     "duration": 0.016546,
     "end_time": "2024-06-27T08:32:24.192515",
     "exception": false,
     "start_time": "2024-06-27T08:32:24.175969",
     "status": "completed"
    },
    "tags": []
   },
   "source": [
    "**Train a regression tree using the `criterion` `mae` then report its $R^2$ value and average error**\n"
   ]
  },
  {
   "cell_type": "code",
   "execution_count": 16,
   "id": "72001151",
   "metadata": {
    "execution": {
     "iopub.execute_input": "2024-06-27T08:32:24.223037Z",
     "iopub.status.busy": "2024-06-27T08:32:24.222187Z",
     "iopub.status.idle": "2024-06-27T08:32:24.240413Z",
     "shell.execute_reply": "2024-06-27T08:32:24.238934Z"
    },
    "papermill": {
     "duration": 0.034385,
     "end_time": "2024-06-27T08:32:24.243036",
     "exception": false,
     "start_time": "2024-06-27T08:32:24.208651",
     "status": "completed"
    },
    "tags": []
   },
   "outputs": [
    {
     "name": "stdout",
     "output_type": "stream",
     "text": [
      "0.8417928035788304\n",
      "$ 2726.5822784810125\n"
     ]
    }
   ],
   "source": [
    "regression_tree = DecisionTreeRegressor(criterion = \"squared_error\")\n",
    "\n",
    "regression_tree.fit(X_train, Y_train)\n",
    "\n",
    "print(regression_tree.score(X_test, Y_test))\n",
    "\n",
    "prediction = regression_tree.predict(X_test)\n",
    "\n",
    "print(\"$\",(prediction - Y_test).abs().mean()*1000)"
   ]
  }
 ],
 "metadata": {
  "kaggle": {
   "accelerator": "none",
   "dataSources": [],
   "dockerImageVersionId": 30732,
   "isGpuEnabled": false,
   "isInternetEnabled": true,
   "language": "python",
   "sourceType": "notebook"
  },
  "kernelspec": {
   "display_name": "Python 3",
   "language": "python",
   "name": "python3"
  },
  "language_info": {
   "codemirror_mode": {
    "name": "ipython",
    "version": 3
   },
   "file_extension": ".py",
   "mimetype": "text/x-python",
   "name": "python",
   "nbconvert_exporter": "python",
   "pygments_lexer": "ipython3",
   "version": "3.10.13"
  },
  "papermill": {
   "default_parameters": {},
   "duration": 9.598503,
   "end_time": "2024-06-27T08:32:24.878406",
   "environment_variables": {},
   "exception": null,
   "input_path": "__notebook__.ipynb",
   "output_path": "__notebook__.ipynb",
   "parameters": {},
   "start_time": "2024-06-27T08:32:15.279903",
   "version": "2.5.0"
  }
 },
 "nbformat": 4,
 "nbformat_minor": 5
}
