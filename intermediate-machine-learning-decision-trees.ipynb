{
 "cells": [
  {
   "cell_type": "markdown",
   "id": "08ec6488",
   "metadata": {
    "papermill": {
     "duration": 0.015108,
     "end_time": "2024-06-26T07:51:04.277873",
     "exception": false,
     "start_time": "2024-06-26T07:51:04.262765",
     "status": "completed"
    },
    "tags": []
   },
   "source": [
    "# **Decision Trees**"
   ]
  },
  {
   "cell_type": "markdown",
   "id": "8cbfd17f",
   "metadata": {
    "papermill": {
     "duration": 0.012504,
     "end_time": "2024-06-26T07:51:04.303718",
     "exception": false,
     "start_time": "2024-06-26T07:51:04.291214",
     "status": "completed"
    },
    "tags": []
   },
   "source": [
    "Import the Following Libraries:\n",
    "\n",
    "<ul>\n",
    "    <li> <b>numpy (as np)</b> </li>\n",
    "    <li> <b>pandas</b> </li>\n",
    "    <li> <b>DecisionTreeClassifier</b> from <b>sklearn.tree</b> </li>\n",
    "</ul>\n"
   ]
  },
  {
   "cell_type": "markdown",
   "id": "0164fc49",
   "metadata": {
    "papermill": {
     "duration": 0.012187,
     "end_time": "2024-06-26T07:51:04.328000",
     "exception": false,
     "start_time": "2024-06-26T07:51:04.315813",
     "status": "completed"
    },
    "tags": []
   },
   "source": [
    "if you uisng you own version comment out\n"
   ]
  },
  {
   "cell_type": "code",
   "execution_count": 1,
   "id": "b98935f1",
   "metadata": {
    "execution": {
     "iopub.execute_input": "2024-06-26T07:51:04.354984Z",
     "iopub.status.busy": "2024-06-26T07:51:04.354388Z",
     "iopub.status.idle": "2024-06-26T07:51:04.372261Z",
     "shell.execute_reply": "2024-06-26T07:51:04.370430Z"
    },
    "papermill": {
     "duration": 0.035845,
     "end_time": "2024-06-26T07:51:04.375768",
     "exception": false,
     "start_time": "2024-06-26T07:51:04.339923",
     "status": "completed"
    },
    "tags": []
   },
   "outputs": [],
   "source": [
    "import warnings\n",
    "warnings.filterwarnings('ignore')"
   ]
  },
  {
   "cell_type": "code",
   "execution_count": 2,
   "id": "0f5b697c",
   "metadata": {
    "execution": {
     "iopub.execute_input": "2024-06-26T07:51:04.400060Z",
     "iopub.status.busy": "2024-06-26T07:51:04.399646Z",
     "iopub.status.idle": "2024-06-26T07:51:07.450440Z",
     "shell.execute_reply": "2024-06-26T07:51:07.449264Z"
    },
    "papermill": {
     "duration": 3.066649,
     "end_time": "2024-06-26T07:51:07.453581",
     "exception": false,
     "start_time": "2024-06-26T07:51:04.386932",
     "status": "completed"
    },
    "tags": []
   },
   "outputs": [],
   "source": [
    "import sys\n",
    "import numpy as np \n",
    "import pandas as pd\n",
    "from sklearn.tree import DecisionTreeClassifier\n",
    "import sklearn.tree as tree"
   ]
  },
  {
   "cell_type": "markdown",
   "id": "0d9d3c52",
   "metadata": {
    "papermill": {
     "duration": 0.011791,
     "end_time": "2024-06-26T07:51:07.476541",
     "exception": false,
     "start_time": "2024-06-26T07:51:07.464750",
     "status": "completed"
    },
    "tags": []
   },
   "source": [
    "<div id=\"about_dataset\">\n",
    "    <h2>About the dataset</h2>\n",
    "    Imagine that you are a medical researcher compiling data for a study. You have collected data about a set of patients, all of whom suffered from the same illness. During their course of treatment, each patient responded to one of 5 medications, Drug A, Drug B, Drug c, Drug x and y. \n",
    "    <br>\n",
    "    <br>\n",
    "    Part of your job is to build a model to find out which drug might be appropriate for a future patient with the same illness. The features of this dataset are Age, Sex, Blood Pressure, and the Cholesterol of the patients, and the target is the drug that each patient responded to.\n",
    "    <br>\n",
    "    <br>\n",
    "    It is a sample of multiclass classifier, and you can use the training part of the dataset \n",
    "    to build a decision tree, and then use it to predict the class of an unknown patient, or to prescribe a drug to a new patient.\n",
    "</div>\n"
   ]
  },
  {
   "cell_type": "markdown",
   "id": "fb490d95",
   "metadata": {
    "papermill": {
     "duration": 0.010605,
     "end_time": "2024-06-26T07:51:07.498850",
     "exception": false,
     "start_time": "2024-06-26T07:51:07.488245",
     "status": "completed"
    },
    "tags": []
   },
   "source": [
    "<div id=\"downloading_data\"> \n",
    "    <h2>Downloading the Data</h2>\n",
    "    To download the data, we will use pandas library to read itdirectly into a dataframe from IBM Object Storage.\n",
    "</div>\n"
   ]
  },
  {
   "cell_type": "code",
   "execution_count": 3,
   "id": "5e0ac53b",
   "metadata": {
    "execution": {
     "iopub.execute_input": "2024-06-26T07:51:07.523409Z",
     "iopub.status.busy": "2024-06-26T07:51:07.522767Z",
     "iopub.status.idle": "2024-06-26T07:51:07.874878Z",
     "shell.execute_reply": "2024-06-26T07:51:07.873616Z"
    },
    "papermill": {
     "duration": 0.367557,
     "end_time": "2024-06-26T07:51:07.877505",
     "exception": false,
     "start_time": "2024-06-26T07:51:07.509948",
     "status": "completed"
    },
    "tags": []
   },
   "outputs": [
    {
     "data": {
      "text/html": [
       "<div>\n",
       "<style scoped>\n",
       "    .dataframe tbody tr th:only-of-type {\n",
       "        vertical-align: middle;\n",
       "    }\n",
       "\n",
       "    .dataframe tbody tr th {\n",
       "        vertical-align: top;\n",
       "    }\n",
       "\n",
       "    .dataframe thead th {\n",
       "        text-align: right;\n",
       "    }\n",
       "</style>\n",
       "<table border=\"1\" class=\"dataframe\">\n",
       "  <thead>\n",
       "    <tr style=\"text-align: right;\">\n",
       "      <th></th>\n",
       "      <th>Age</th>\n",
       "      <th>Sex</th>\n",
       "      <th>BP</th>\n",
       "      <th>Cholesterol</th>\n",
       "      <th>Na_to_K</th>\n",
       "      <th>Drug</th>\n",
       "    </tr>\n",
       "  </thead>\n",
       "  <tbody>\n",
       "    <tr>\n",
       "      <th>0</th>\n",
       "      <td>23</td>\n",
       "      <td>F</td>\n",
       "      <td>HIGH</td>\n",
       "      <td>HIGH</td>\n",
       "      <td>25.355</td>\n",
       "      <td>drugY</td>\n",
       "    </tr>\n",
       "    <tr>\n",
       "      <th>1</th>\n",
       "      <td>47</td>\n",
       "      <td>M</td>\n",
       "      <td>LOW</td>\n",
       "      <td>HIGH</td>\n",
       "      <td>13.093</td>\n",
       "      <td>drugC</td>\n",
       "    </tr>\n",
       "    <tr>\n",
       "      <th>2</th>\n",
       "      <td>47</td>\n",
       "      <td>M</td>\n",
       "      <td>LOW</td>\n",
       "      <td>HIGH</td>\n",
       "      <td>10.114</td>\n",
       "      <td>drugC</td>\n",
       "    </tr>\n",
       "    <tr>\n",
       "      <th>3</th>\n",
       "      <td>28</td>\n",
       "      <td>F</td>\n",
       "      <td>NORMAL</td>\n",
       "      <td>HIGH</td>\n",
       "      <td>7.798</td>\n",
       "      <td>drugX</td>\n",
       "    </tr>\n",
       "    <tr>\n",
       "      <th>4</th>\n",
       "      <td>61</td>\n",
       "      <td>F</td>\n",
       "      <td>LOW</td>\n",
       "      <td>HIGH</td>\n",
       "      <td>18.043</td>\n",
       "      <td>drugY</td>\n",
       "    </tr>\n",
       "  </tbody>\n",
       "</table>\n",
       "</div>"
      ],
      "text/plain": [
       "   Age Sex      BP Cholesterol  Na_to_K   Drug\n",
       "0   23   F    HIGH        HIGH   25.355  drugY\n",
       "1   47   M     LOW        HIGH   13.093  drugC\n",
       "2   47   M     LOW        HIGH   10.114  drugC\n",
       "3   28   F  NORMAL        HIGH    7.798  drugX\n",
       "4   61   F     LOW        HIGH   18.043  drugY"
      ]
     },
     "execution_count": 3,
     "metadata": {},
     "output_type": "execute_result"
    }
   ],
   "source": [
    "my_data = pd.read_csv('https://cf-courses-data.s3.us.cloud-object-storage.appdomain.cloud/IBMDeveloperSkillsNetwork-ML0101EN-SkillsNetwork/labs/Module%203/data/drug200.csv', delimiter=\",\")\n",
    "my_data.head()"
   ]
  },
  {
   "cell_type": "markdown",
   "id": "2a6d1bed",
   "metadata": {
    "papermill": {
     "duration": 0.0114,
     "end_time": "2024-06-26T07:51:07.900286",
     "exception": false,
     "start_time": "2024-06-26T07:51:07.888886",
     "status": "completed"
    },
    "tags": []
   },
   "source": [
    "# **What is the size of data?**"
   ]
  },
  {
   "cell_type": "code",
   "execution_count": 4,
   "id": "e62e392c",
   "metadata": {
    "execution": {
     "iopub.execute_input": "2024-06-26T07:51:07.925806Z",
     "iopub.status.busy": "2024-06-26T07:51:07.925382Z",
     "iopub.status.idle": "2024-06-26T07:51:07.932759Z",
     "shell.execute_reply": "2024-06-26T07:51:07.931567Z"
    },
    "papermill": {
     "duration": 0.023408,
     "end_time": "2024-06-26T07:51:07.935286",
     "exception": false,
     "start_time": "2024-06-26T07:51:07.911878",
     "status": "completed"
    },
    "tags": []
   },
   "outputs": [
    {
     "data": {
      "text/plain": [
       "(200, 6)"
      ]
     },
     "execution_count": 4,
     "metadata": {},
     "output_type": "execute_result"
    }
   ],
   "source": [
    "my_data.shape"
   ]
  },
  {
   "cell_type": "markdown",
   "id": "df274291",
   "metadata": {
    "papermill": {
     "duration": 0.011287,
     "end_time": "2024-06-26T07:51:07.958812",
     "exception": false,
     "start_time": "2024-06-26T07:51:07.947525",
     "status": "completed"
    },
    "tags": []
   },
   "source": [
    "<div href=\"pre-processing\">\n",
    "    <h2>Pre-processing</h2>\n",
    "</div>\n"
   ]
  },
  {
   "cell_type": "markdown",
   "id": "75e57a8b",
   "metadata": {
    "papermill": {
     "duration": 0.011435,
     "end_time": "2024-06-26T07:51:07.981875",
     "exception": false,
     "start_time": "2024-06-26T07:51:07.970440",
     "status": "completed"
    },
    "tags": []
   },
   "source": [
    "Using <b>my_data</b> as the Drug.csv data read by pandas, declare the following variables: <br>\n",
    "\n",
    "<ul>\n",
    "    <li> <b> X </b> as the <b> Feature Matrix </b> (data of my_data) </li>\n",
    "    <li> <b> y </b> as the <b> response vector </b> (target) </li>\n",
    "</ul>\n"
   ]
  },
  {
   "cell_type": "markdown",
   "id": "24eec844",
   "metadata": {
    "papermill": {
     "duration": 0.011455,
     "end_time": "2024-06-26T07:51:08.005685",
     "exception": false,
     "start_time": "2024-06-26T07:51:07.994230",
     "status": "completed"
    },
    "tags": []
   },
   "source": [
    "Remove the column containing the target name since it doesn't contain numeric values.\n"
   ]
  },
  {
   "cell_type": "code",
   "execution_count": 5,
   "id": "5298d58e",
   "metadata": {
    "execution": {
     "iopub.execute_input": "2024-06-26T07:51:08.030815Z",
     "iopub.status.busy": "2024-06-26T07:51:08.030374Z",
     "iopub.status.idle": "2024-06-26T07:51:08.049708Z",
     "shell.execute_reply": "2024-06-26T07:51:08.048153Z"
    },
    "papermill": {
     "duration": 0.03556,
     "end_time": "2024-06-26T07:51:08.052647",
     "exception": false,
     "start_time": "2024-06-26T07:51:08.017087",
     "status": "completed"
    },
    "tags": []
   },
   "outputs": [
    {
     "data": {
      "text/plain": [
       "array([[23, 'F', 'HIGH', 'HIGH', 25.355],\n",
       "       [47, 'M', 'LOW', 'HIGH', 13.093],\n",
       "       [47, 'M', 'LOW', 'HIGH', 10.114],\n",
       "       [28, 'F', 'NORMAL', 'HIGH', 7.798],\n",
       "       [61, 'F', 'LOW', 'HIGH', 18.043]], dtype=object)"
      ]
     },
     "execution_count": 5,
     "metadata": {},
     "output_type": "execute_result"
    }
   ],
   "source": [
    "X = my_data[['Age', 'Sex', 'BP', 'Cholesterol', 'Na_to_K']].values\n",
    "X[0:5]\n"
   ]
  },
  {
   "cell_type": "markdown",
   "id": "c4f244f8",
   "metadata": {
    "papermill": {
     "duration": 0.011319,
     "end_time": "2024-06-26T07:51:08.075554",
     "exception": false,
     "start_time": "2024-06-26T07:51:08.064235",
     "status": "completed"
    },
    "tags": []
   },
   "source": [
    "As you may figure out, some features in this dataset are categorical, such as **Sex** or **BP**. Unfortunately, Sklearn Decision Trees does not handle categorical variables. We can still convert these features to numerical values using the **LabelEncoder() method**\n",
    "to convert the categorical variable into dummy/indicator variables.\n"
   ]
  },
  {
   "cell_type": "code",
   "execution_count": 6,
   "id": "f4b0a37e",
   "metadata": {
    "execution": {
     "iopub.execute_input": "2024-06-26T07:51:08.100994Z",
     "iopub.status.busy": "2024-06-26T07:51:08.100584Z",
     "iopub.status.idle": "2024-06-26T07:51:08.201345Z",
     "shell.execute_reply": "2024-06-26T07:51:08.200001Z"
    },
    "papermill": {
     "duration": 0.116954,
     "end_time": "2024-06-26T07:51:08.204113",
     "exception": false,
     "start_time": "2024-06-26T07:51:08.087159",
     "status": "completed"
    },
    "tags": []
   },
   "outputs": [
    {
     "data": {
      "text/plain": [
       "array([[23, 0, 0, 0, 25.355],\n",
       "       [47, 1, 1, 0, 13.093],\n",
       "       [47, 1, 1, 0, 10.114],\n",
       "       [28, 0, 2, 0, 7.798],\n",
       "       [61, 0, 1, 0, 18.043]], dtype=object)"
      ]
     },
     "execution_count": 6,
     "metadata": {},
     "output_type": "execute_result"
    }
   ],
   "source": [
    "from sklearn import preprocessing\n",
    "le_sex = preprocessing.LabelEncoder()\n",
    "le_sex.fit(['F','M'])\n",
    "X[:,1] = le_sex.transform(X[:,1]) \n",
    "\n",
    "\n",
    "le_BP = preprocessing.LabelEncoder()\n",
    "le_BP.fit([ 'LOW', 'NORMAL', 'HIGH'])\n",
    "X[:,2] = le_BP.transform(X[:,2])\n",
    "\n",
    "\n",
    "le_Chol = preprocessing.LabelEncoder()\n",
    "le_Chol.fit([ 'NORMAL', 'HIGH'])\n",
    "X[:,3] = le_Chol.transform(X[:,3]) \n",
    "\n",
    "X[0:5]\n"
   ]
  },
  {
   "cell_type": "markdown",
   "id": "d43b169f",
   "metadata": {
    "papermill": {
     "duration": 0.011442,
     "end_time": "2024-06-26T07:51:08.227486",
     "exception": false,
     "start_time": "2024-06-26T07:51:08.216044",
     "status": "completed"
    },
    "tags": []
   },
   "source": [
    "Now we can fill the target variable.\n"
   ]
  },
  {
   "cell_type": "code",
   "execution_count": 7,
   "id": "033eb298",
   "metadata": {
    "execution": {
     "iopub.execute_input": "2024-06-26T07:51:08.253940Z",
     "iopub.status.busy": "2024-06-26T07:51:08.253031Z",
     "iopub.status.idle": "2024-06-26T07:51:08.262881Z",
     "shell.execute_reply": "2024-06-26T07:51:08.261538Z"
    },
    "papermill": {
     "duration": 0.026049,
     "end_time": "2024-06-26T07:51:08.265762",
     "exception": false,
     "start_time": "2024-06-26T07:51:08.239713",
     "status": "completed"
    },
    "tags": []
   },
   "outputs": [
    {
     "data": {
      "text/plain": [
       "0    drugY\n",
       "1    drugC\n",
       "2    drugC\n",
       "3    drugX\n",
       "4    drugY\n",
       "Name: Drug, dtype: object"
      ]
     },
     "execution_count": 7,
     "metadata": {},
     "output_type": "execute_result"
    }
   ],
   "source": [
    "y = my_data[\"Drug\"]\n",
    "y[0:5]"
   ]
  },
  {
   "cell_type": "markdown",
   "id": "f891a359",
   "metadata": {
    "papermill": {
     "duration": 0.012482,
     "end_time": "2024-06-26T07:51:08.290589",
     "exception": false,
     "start_time": "2024-06-26T07:51:08.278107",
     "status": "completed"
    },
    "tags": []
   },
   "source": [
    "<hr>\n",
    "\n",
    "<div id=\"setting_up_tree\">\n",
    "    <h2>Setting up the Decision Tree</h2>\n",
    "    We will be using <b>train/test split</b> on our <b>decision tree</b>. Let's import <b>train_test_split</b> from <b>sklearn.cross_validation</b>.\n",
    "</div>\n"
   ]
  },
  {
   "cell_type": "code",
   "execution_count": 8,
   "id": "4898be6b",
   "metadata": {
    "execution": {
     "iopub.execute_input": "2024-06-26T07:51:08.316908Z",
     "iopub.status.busy": "2024-06-26T07:51:08.316466Z",
     "iopub.status.idle": "2024-06-26T07:51:08.323152Z",
     "shell.execute_reply": "2024-06-26T07:51:08.321677Z"
    },
    "papermill": {
     "duration": 0.023005,
     "end_time": "2024-06-26T07:51:08.326016",
     "exception": false,
     "start_time": "2024-06-26T07:51:08.303011",
     "status": "completed"
    },
    "tags": []
   },
   "outputs": [],
   "source": [
    "from sklearn.model_selection import train_test_split"
   ]
  },
  {
   "cell_type": "markdown",
   "id": "b01107f0",
   "metadata": {
    "papermill": {
     "duration": 0.012236,
     "end_time": "2024-06-26T07:51:08.350857",
     "exception": false,
     "start_time": "2024-06-26T07:51:08.338621",
     "status": "completed"
    },
    "tags": []
   },
   "source": [
    "Now <b> train_test_split </b> will return 4 different parameters. We will name them:<br>\n",
    "X_trainset, X_testset, y_trainset, y_testset <br> <br>\n",
    "The <b> train_test_split </b> will need the parameters: <br>\n",
    "X, y, test_size=0.3, and random_state=3. <br> <br>\n",
    "The <b>X</b> and <b>y</b> are the arrays required before the split, the <b>test_size</b> represents the ratio of the testing dataset, and the <b>random_state</b> ensures that we obtain the same splits.\n"
   ]
  },
  {
   "cell_type": "code",
   "execution_count": 9,
   "id": "19f481d3",
   "metadata": {
    "execution": {
     "iopub.execute_input": "2024-06-26T07:51:08.376799Z",
     "iopub.status.busy": "2024-06-26T07:51:08.376371Z",
     "iopub.status.idle": "2024-06-26T07:51:08.387862Z",
     "shell.execute_reply": "2024-06-26T07:51:08.386533Z"
    },
    "papermill": {
     "duration": 0.027671,
     "end_time": "2024-06-26T07:51:08.390443",
     "exception": false,
     "start_time": "2024-06-26T07:51:08.362772",
     "status": "completed"
    },
    "tags": []
   },
   "outputs": [],
   "source": [
    "X_trainset, X_testset, y_trainset, y_testset = train_test_split(X, y, test_size=0.3, random_state=3)"
   ]
  },
  {
   "cell_type": "markdown",
   "id": "2d0697cb",
   "metadata": {
    "papermill": {
     "duration": 0.011975,
     "end_time": "2024-06-26T07:51:08.414944",
     "exception": false,
     "start_time": "2024-06-26T07:51:08.402969",
     "status": "completed"
    },
    "tags": []
   },
   "source": [
    "<h3>Practice</h3>\n",
    "Print the shape of X_trainset and y_trainset. Ensure that the dimensions match.\n"
   ]
  },
  {
   "cell_type": "code",
   "execution_count": 10,
   "id": "f5e8b11b",
   "metadata": {
    "execution": {
     "iopub.execute_input": "2024-06-26T07:51:08.440762Z",
     "iopub.status.busy": "2024-06-26T07:51:08.440297Z",
     "iopub.status.idle": "2024-06-26T07:51:08.446826Z",
     "shell.execute_reply": "2024-06-26T07:51:08.445503Z"
    },
    "papermill": {
     "duration": 0.024568,
     "end_time": "2024-06-26T07:51:08.451361",
     "exception": false,
     "start_time": "2024-06-26T07:51:08.426793",
     "status": "completed"
    },
    "tags": []
   },
   "outputs": [
    {
     "name": "stdout",
     "output_type": "stream",
     "text": [
      "Shape of X training set (140, 5) &  Size of Y training set (140,)\n"
     ]
    }
   ],
   "source": [
    "print('Shape of X training set {}'.format(X_trainset.shape),'&',' Size of Y training set {}'.format(y_trainset.shape))\n"
   ]
  },
  {
   "cell_type": "markdown",
   "id": "e1424e73",
   "metadata": {
    "papermill": {
     "duration": 0.011858,
     "end_time": "2024-06-26T07:51:08.475852",
     "exception": false,
     "start_time": "2024-06-26T07:51:08.463994",
     "status": "completed"
    },
    "tags": []
   },
   "source": [
    "Print the shape of X_testset and y_testset. Ensure that the dimensions match.\n"
   ]
  },
  {
   "cell_type": "code",
   "execution_count": 11,
   "id": "6bcb3cce",
   "metadata": {
    "execution": {
     "iopub.execute_input": "2024-06-26T07:51:08.501903Z",
     "iopub.status.busy": "2024-06-26T07:51:08.501490Z",
     "iopub.status.idle": "2024-06-26T07:51:08.508089Z",
     "shell.execute_reply": "2024-06-26T07:51:08.506838Z"
    },
    "papermill": {
     "duration": 0.022801,
     "end_time": "2024-06-26T07:51:08.510762",
     "exception": false,
     "start_time": "2024-06-26T07:51:08.487961",
     "status": "completed"
    },
    "tags": []
   },
   "outputs": [
    {
     "name": "stdout",
     "output_type": "stream",
     "text": [
      "Shape of X training set (60, 5) &  Size of Y training set (60,)\n"
     ]
    }
   ],
   "source": [
    "print('Shape of X training set {}'.format(X_testset.shape),'&',' Size of Y training set {}'.format(y_testset.shape))"
   ]
  },
  {
   "cell_type": "markdown",
   "id": "765d0b0e",
   "metadata": {
    "papermill": {
     "duration": 0.011964,
     "end_time": "2024-06-26T07:51:08.534856",
     "exception": false,
     "start_time": "2024-06-26T07:51:08.522892",
     "status": "completed"
    },
    "tags": []
   },
   "source": [
    "<hr>\n",
    "\n",
    "<div id=\"modeling\">\n",
    "    <h2>Modeling</h2>\n",
    "    We will first create an instance of the <b>DecisionTreeClassifier</b> called <b>drugTree</b>.<br>\n",
    "    Inside of the classifier, specify <i> criterion=\"entropy\" </i> so we can see the information gain of each node.\n",
    "</div>\n"
   ]
  },
  {
   "cell_type": "code",
   "execution_count": 12,
   "id": "20c1e533",
   "metadata": {
    "execution": {
     "iopub.execute_input": "2024-06-26T07:51:08.561400Z",
     "iopub.status.busy": "2024-06-26T07:51:08.560930Z",
     "iopub.status.idle": "2024-06-26T07:51:08.572904Z",
     "shell.execute_reply": "2024-06-26T07:51:08.571530Z"
    },
    "papermill": {
     "duration": 0.028458,
     "end_time": "2024-06-26T07:51:08.575586",
     "exception": false,
     "start_time": "2024-06-26T07:51:08.547128",
     "status": "completed"
    },
    "tags": []
   },
   "outputs": [
    {
     "data": {
      "text/html": [
       "<style>#sk-container-id-1 {color: black;background-color: white;}#sk-container-id-1 pre{padding: 0;}#sk-container-id-1 div.sk-toggleable {background-color: white;}#sk-container-id-1 label.sk-toggleable__label {cursor: pointer;display: block;width: 100%;margin-bottom: 0;padding: 0.3em;box-sizing: border-box;text-align: center;}#sk-container-id-1 label.sk-toggleable__label-arrow:before {content: \"▸\";float: left;margin-right: 0.25em;color: #696969;}#sk-container-id-1 label.sk-toggleable__label-arrow:hover:before {color: black;}#sk-container-id-1 div.sk-estimator:hover label.sk-toggleable__label-arrow:before {color: black;}#sk-container-id-1 div.sk-toggleable__content {max-height: 0;max-width: 0;overflow: hidden;text-align: left;background-color: #f0f8ff;}#sk-container-id-1 div.sk-toggleable__content pre {margin: 0.2em;color: black;border-radius: 0.25em;background-color: #f0f8ff;}#sk-container-id-1 input.sk-toggleable__control:checked~div.sk-toggleable__content {max-height: 200px;max-width: 100%;overflow: auto;}#sk-container-id-1 input.sk-toggleable__control:checked~label.sk-toggleable__label-arrow:before {content: \"▾\";}#sk-container-id-1 div.sk-estimator input.sk-toggleable__control:checked~label.sk-toggleable__label {background-color: #d4ebff;}#sk-container-id-1 div.sk-label input.sk-toggleable__control:checked~label.sk-toggleable__label {background-color: #d4ebff;}#sk-container-id-1 input.sk-hidden--visually {border: 0;clip: rect(1px 1px 1px 1px);clip: rect(1px, 1px, 1px, 1px);height: 1px;margin: -1px;overflow: hidden;padding: 0;position: absolute;width: 1px;}#sk-container-id-1 div.sk-estimator {font-family: monospace;background-color: #f0f8ff;border: 1px dotted black;border-radius: 0.25em;box-sizing: border-box;margin-bottom: 0.5em;}#sk-container-id-1 div.sk-estimator:hover {background-color: #d4ebff;}#sk-container-id-1 div.sk-parallel-item::after {content: \"\";width: 100%;border-bottom: 1px solid gray;flex-grow: 1;}#sk-container-id-1 div.sk-label:hover label.sk-toggleable__label {background-color: #d4ebff;}#sk-container-id-1 div.sk-serial::before {content: \"\";position: absolute;border-left: 1px solid gray;box-sizing: border-box;top: 0;bottom: 0;left: 50%;z-index: 0;}#sk-container-id-1 div.sk-serial {display: flex;flex-direction: column;align-items: center;background-color: white;padding-right: 0.2em;padding-left: 0.2em;position: relative;}#sk-container-id-1 div.sk-item {position: relative;z-index: 1;}#sk-container-id-1 div.sk-parallel {display: flex;align-items: stretch;justify-content: center;background-color: white;position: relative;}#sk-container-id-1 div.sk-item::before, #sk-container-id-1 div.sk-parallel-item::before {content: \"\";position: absolute;border-left: 1px solid gray;box-sizing: border-box;top: 0;bottom: 0;left: 50%;z-index: -1;}#sk-container-id-1 div.sk-parallel-item {display: flex;flex-direction: column;z-index: 1;position: relative;background-color: white;}#sk-container-id-1 div.sk-parallel-item:first-child::after {align-self: flex-end;width: 50%;}#sk-container-id-1 div.sk-parallel-item:last-child::after {align-self: flex-start;width: 50%;}#sk-container-id-1 div.sk-parallel-item:only-child::after {width: 0;}#sk-container-id-1 div.sk-dashed-wrapped {border: 1px dashed gray;margin: 0 0.4em 0.5em 0.4em;box-sizing: border-box;padding-bottom: 0.4em;background-color: white;}#sk-container-id-1 div.sk-label label {font-family: monospace;font-weight: bold;display: inline-block;line-height: 1.2em;}#sk-container-id-1 div.sk-label-container {text-align: center;}#sk-container-id-1 div.sk-container {/* jupyter's `normalize.less` sets `[hidden] { display: none; }` but bootstrap.min.css set `[hidden] { display: none !important; }` so we also need the `!important` here to be able to override the default hidden behavior on the sphinx rendered scikit-learn.org. See: https://github.com/scikit-learn/scikit-learn/issues/21755 */display: inline-block !important;position: relative;}#sk-container-id-1 div.sk-text-repr-fallback {display: none;}</style><div id=\"sk-container-id-1\" class=\"sk-top-container\"><div class=\"sk-text-repr-fallback\"><pre>DecisionTreeClassifier(criterion=&#x27;entropy&#x27;, max_depth=4)</pre><b>In a Jupyter environment, please rerun this cell to show the HTML representation or trust the notebook. <br />On GitHub, the HTML representation is unable to render, please try loading this page with nbviewer.org.</b></div><div class=\"sk-container\" hidden><div class=\"sk-item\"><div class=\"sk-estimator sk-toggleable\"><input class=\"sk-toggleable__control sk-hidden--visually\" id=\"sk-estimator-id-1\" type=\"checkbox\" checked><label for=\"sk-estimator-id-1\" class=\"sk-toggleable__label sk-toggleable__label-arrow\">DecisionTreeClassifier</label><div class=\"sk-toggleable__content\"><pre>DecisionTreeClassifier(criterion=&#x27;entropy&#x27;, max_depth=4)</pre></div></div></div></div></div>"
      ],
      "text/plain": [
       "DecisionTreeClassifier(criterion='entropy', max_depth=4)"
      ]
     },
     "execution_count": 12,
     "metadata": {},
     "output_type": "execute_result"
    }
   ],
   "source": [
    "drugTree = DecisionTreeClassifier(criterion=\"entropy\", max_depth = 4)\n",
    "drugTree # it shows the default parameters"
   ]
  },
  {
   "cell_type": "markdown",
   "id": "099747fd",
   "metadata": {
    "papermill": {
     "duration": 0.012398,
     "end_time": "2024-06-26T07:51:08.600997",
     "exception": false,
     "start_time": "2024-06-26T07:51:08.588599",
     "status": "completed"
    },
    "tags": []
   },
   "source": [
    "Next, we will fit the data with the training feature matrix <b> X_trainset </b> and training  response vector <b> y_trainset </b>\n"
   ]
  },
  {
   "cell_type": "code",
   "execution_count": 13,
   "id": "d7600de7",
   "metadata": {
    "execution": {
     "iopub.execute_input": "2024-06-26T07:51:08.627716Z",
     "iopub.status.busy": "2024-06-26T07:51:08.627292Z",
     "iopub.status.idle": "2024-06-26T07:51:08.645379Z",
     "shell.execute_reply": "2024-06-26T07:51:08.643628Z"
    },
    "papermill": {
     "duration": 0.035161,
     "end_time": "2024-06-26T07:51:08.648531",
     "exception": false,
     "start_time": "2024-06-26T07:51:08.613370",
     "status": "completed"
    },
    "tags": []
   },
   "outputs": [
    {
     "data": {
      "text/html": [
       "<style>#sk-container-id-2 {color: black;background-color: white;}#sk-container-id-2 pre{padding: 0;}#sk-container-id-2 div.sk-toggleable {background-color: white;}#sk-container-id-2 label.sk-toggleable__label {cursor: pointer;display: block;width: 100%;margin-bottom: 0;padding: 0.3em;box-sizing: border-box;text-align: center;}#sk-container-id-2 label.sk-toggleable__label-arrow:before {content: \"▸\";float: left;margin-right: 0.25em;color: #696969;}#sk-container-id-2 label.sk-toggleable__label-arrow:hover:before {color: black;}#sk-container-id-2 div.sk-estimator:hover label.sk-toggleable__label-arrow:before {color: black;}#sk-container-id-2 div.sk-toggleable__content {max-height: 0;max-width: 0;overflow: hidden;text-align: left;background-color: #f0f8ff;}#sk-container-id-2 div.sk-toggleable__content pre {margin: 0.2em;color: black;border-radius: 0.25em;background-color: #f0f8ff;}#sk-container-id-2 input.sk-toggleable__control:checked~div.sk-toggleable__content {max-height: 200px;max-width: 100%;overflow: auto;}#sk-container-id-2 input.sk-toggleable__control:checked~label.sk-toggleable__label-arrow:before {content: \"▾\";}#sk-container-id-2 div.sk-estimator input.sk-toggleable__control:checked~label.sk-toggleable__label {background-color: #d4ebff;}#sk-container-id-2 div.sk-label input.sk-toggleable__control:checked~label.sk-toggleable__label {background-color: #d4ebff;}#sk-container-id-2 input.sk-hidden--visually {border: 0;clip: rect(1px 1px 1px 1px);clip: rect(1px, 1px, 1px, 1px);height: 1px;margin: -1px;overflow: hidden;padding: 0;position: absolute;width: 1px;}#sk-container-id-2 div.sk-estimator {font-family: monospace;background-color: #f0f8ff;border: 1px dotted black;border-radius: 0.25em;box-sizing: border-box;margin-bottom: 0.5em;}#sk-container-id-2 div.sk-estimator:hover {background-color: #d4ebff;}#sk-container-id-2 div.sk-parallel-item::after {content: \"\";width: 100%;border-bottom: 1px solid gray;flex-grow: 1;}#sk-container-id-2 div.sk-label:hover label.sk-toggleable__label {background-color: #d4ebff;}#sk-container-id-2 div.sk-serial::before {content: \"\";position: absolute;border-left: 1px solid gray;box-sizing: border-box;top: 0;bottom: 0;left: 50%;z-index: 0;}#sk-container-id-2 div.sk-serial {display: flex;flex-direction: column;align-items: center;background-color: white;padding-right: 0.2em;padding-left: 0.2em;position: relative;}#sk-container-id-2 div.sk-item {position: relative;z-index: 1;}#sk-container-id-2 div.sk-parallel {display: flex;align-items: stretch;justify-content: center;background-color: white;position: relative;}#sk-container-id-2 div.sk-item::before, #sk-container-id-2 div.sk-parallel-item::before {content: \"\";position: absolute;border-left: 1px solid gray;box-sizing: border-box;top: 0;bottom: 0;left: 50%;z-index: -1;}#sk-container-id-2 div.sk-parallel-item {display: flex;flex-direction: column;z-index: 1;position: relative;background-color: white;}#sk-container-id-2 div.sk-parallel-item:first-child::after {align-self: flex-end;width: 50%;}#sk-container-id-2 div.sk-parallel-item:last-child::after {align-self: flex-start;width: 50%;}#sk-container-id-2 div.sk-parallel-item:only-child::after {width: 0;}#sk-container-id-2 div.sk-dashed-wrapped {border: 1px dashed gray;margin: 0 0.4em 0.5em 0.4em;box-sizing: border-box;padding-bottom: 0.4em;background-color: white;}#sk-container-id-2 div.sk-label label {font-family: monospace;font-weight: bold;display: inline-block;line-height: 1.2em;}#sk-container-id-2 div.sk-label-container {text-align: center;}#sk-container-id-2 div.sk-container {/* jupyter's `normalize.less` sets `[hidden] { display: none; }` but bootstrap.min.css set `[hidden] { display: none !important; }` so we also need the `!important` here to be able to override the default hidden behavior on the sphinx rendered scikit-learn.org. See: https://github.com/scikit-learn/scikit-learn/issues/21755 */display: inline-block !important;position: relative;}#sk-container-id-2 div.sk-text-repr-fallback {display: none;}</style><div id=\"sk-container-id-2\" class=\"sk-top-container\"><div class=\"sk-text-repr-fallback\"><pre>DecisionTreeClassifier(criterion=&#x27;entropy&#x27;, max_depth=4)</pre><b>In a Jupyter environment, please rerun this cell to show the HTML representation or trust the notebook. <br />On GitHub, the HTML representation is unable to render, please try loading this page with nbviewer.org.</b></div><div class=\"sk-container\" hidden><div class=\"sk-item\"><div class=\"sk-estimator sk-toggleable\"><input class=\"sk-toggleable__control sk-hidden--visually\" id=\"sk-estimator-id-2\" type=\"checkbox\" checked><label for=\"sk-estimator-id-2\" class=\"sk-toggleable__label sk-toggleable__label-arrow\">DecisionTreeClassifier</label><div class=\"sk-toggleable__content\"><pre>DecisionTreeClassifier(criterion=&#x27;entropy&#x27;, max_depth=4)</pre></div></div></div></div></div>"
      ],
      "text/plain": [
       "DecisionTreeClassifier(criterion='entropy', max_depth=4)"
      ]
     },
     "execution_count": 13,
     "metadata": {},
     "output_type": "execute_result"
    }
   ],
   "source": [
    "drugTree.fit(X_trainset,y_trainset)"
   ]
  },
  {
   "cell_type": "markdown",
   "id": "c93f0087",
   "metadata": {
    "papermill": {
     "duration": 0.018248,
     "end_time": "2024-06-26T07:51:08.682653",
     "exception": false,
     "start_time": "2024-06-26T07:51:08.664405",
     "status": "completed"
    },
    "tags": []
   },
   "source": [
    "<hr>\n",
    "\n",
    "<div id=\"prediction\">\n",
    "    <h2>Prediction</h2>\n",
    "    Let's make some <b>predictions</b> on the testing dataset and store it into a variable called <b>predTree</b>.\n",
    "</div>\n"
   ]
  },
  {
   "cell_type": "code",
   "execution_count": 14,
   "id": "5d71cc68",
   "metadata": {
    "execution": {
     "iopub.execute_input": "2024-06-26T07:51:08.720274Z",
     "iopub.status.busy": "2024-06-26T07:51:08.719003Z",
     "iopub.status.idle": "2024-06-26T07:51:08.725448Z",
     "shell.execute_reply": "2024-06-26T07:51:08.724119Z"
    },
    "papermill": {
     "duration": 0.027383,
     "end_time": "2024-06-26T07:51:08.728075",
     "exception": false,
     "start_time": "2024-06-26T07:51:08.700692",
     "status": "completed"
    },
    "tags": []
   },
   "outputs": [],
   "source": [
    "predTree = drugTree.predict(X_testset)"
   ]
  },
  {
   "cell_type": "markdown",
   "id": "13b28beb",
   "metadata": {
    "papermill": {
     "duration": 0.012813,
     "end_time": "2024-06-26T07:51:08.753510",
     "exception": false,
     "start_time": "2024-06-26T07:51:08.740697",
     "status": "completed"
    },
    "tags": []
   },
   "source": [
    "You can print out <b>predTree</b> and <b>y_testset</b> if you want to visually compare the predictions to the actual values.\n"
   ]
  },
  {
   "cell_type": "code",
   "execution_count": 15,
   "id": "102d59fc",
   "metadata": {
    "execution": {
     "iopub.execute_input": "2024-06-26T07:51:08.781698Z",
     "iopub.status.busy": "2024-06-26T07:51:08.781291Z",
     "iopub.status.idle": "2024-06-26T07:51:08.788590Z",
     "shell.execute_reply": "2024-06-26T07:51:08.787317Z"
    },
    "papermill": {
     "duration": 0.023958,
     "end_time": "2024-06-26T07:51:08.791182",
     "exception": false,
     "start_time": "2024-06-26T07:51:08.767224",
     "status": "completed"
    },
    "tags": []
   },
   "outputs": [
    {
     "name": "stdout",
     "output_type": "stream",
     "text": [
      "['drugY' 'drugX' 'drugX' 'drugX' 'drugX']\n",
      "40     drugY\n",
      "51     drugX\n",
      "139    drugX\n",
      "197    drugX\n",
      "170    drugX\n",
      "Name: Drug, dtype: object\n"
     ]
    }
   ],
   "source": [
    "print (predTree [0:5])\n",
    "print (y_testset [0:5])\n"
   ]
  },
  {
   "cell_type": "markdown",
   "id": "9a4da918",
   "metadata": {
    "papermill": {
     "duration": 0.015887,
     "end_time": "2024-06-26T07:51:08.819989",
     "exception": false,
     "start_time": "2024-06-26T07:51:08.804102",
     "status": "completed"
    },
    "tags": []
   },
   "source": [
    "<hr>\n",
    "\n",
    "<div id=\"evaluation\">\n",
    "    <h2>Evaluation</h2>\n",
    "    Next, let's import <b>metrics</b> from sklearn and check the accuracy of our model.\n",
    "</div>\n"
   ]
  },
  {
   "cell_type": "code",
   "execution_count": 16,
   "id": "a677b8e5",
   "metadata": {
    "execution": {
     "iopub.execute_input": "2024-06-26T07:51:08.856458Z",
     "iopub.status.busy": "2024-06-26T07:51:08.855542Z",
     "iopub.status.idle": "2024-06-26T07:51:08.869826Z",
     "shell.execute_reply": "2024-06-26T07:51:08.868280Z"
    },
    "papermill": {
     "duration": 0.03871,
     "end_time": "2024-06-26T07:51:08.873595",
     "exception": false,
     "start_time": "2024-06-26T07:51:08.834885",
     "status": "completed"
    },
    "tags": []
   },
   "outputs": [
    {
     "name": "stdout",
     "output_type": "stream",
     "text": [
      "DecisionTrees's Accuracy:  0.9833333333333333\n"
     ]
    }
   ],
   "source": [
    "from sklearn import metrics\n",
    "import matplotlib.pyplot as plt\n",
    "print(\"DecisionTrees's Accuracy: \", metrics.accuracy_score(y_testset, predTree))"
   ]
  },
  {
   "cell_type": "markdown",
   "id": "ead5c924",
   "metadata": {
    "papermill": {
     "duration": 0.01727,
     "end_time": "2024-06-26T07:51:08.911782",
     "exception": false,
     "start_time": "2024-06-26T07:51:08.894512",
     "status": "completed"
    },
    "tags": []
   },
   "source": [
    "**Accuracy classification score** computes subset accuracy: the set of labels predicted for a sample must exactly match the corresponding set of labels in y_true.\n",
    "\n",
    "In multilabel classification, the function returns the subset accuracy. If the entire set of predicted labels for a sample strictly matches with the true set of labels, then the subset accuracy is 1.0; otherwise it is 0.0.\n"
   ]
  },
  {
   "cell_type": "markdown",
   "id": "d0a3a248",
   "metadata": {
    "papermill": {
     "duration": 0.015766,
     "end_time": "2024-06-26T07:51:08.942725",
     "exception": false,
     "start_time": "2024-06-26T07:51:08.926959",
     "status": "completed"
    },
    "tags": []
   },
   "source": [
    "<hr>\n",
    "\n",
    "<div id=\"visualization\">\n",
    "    <h2>Visualization</h2>\n",
    "\n",
    "Let's visualize the tree\n",
    "\n",
    "</div>\n"
   ]
  },
  {
   "cell_type": "code",
   "execution_count": 17,
   "id": "f9e585f1",
   "metadata": {
    "execution": {
     "iopub.execute_input": "2024-06-26T07:51:08.974053Z",
     "iopub.status.busy": "2024-06-26T07:51:08.973604Z",
     "iopub.status.idle": "2024-06-26T07:51:08.979003Z",
     "shell.execute_reply": "2024-06-26T07:51:08.977587Z"
    },
    "papermill": {
     "duration": 0.02291,
     "end_time": "2024-06-26T07:51:08.981863",
     "exception": false,
     "start_time": "2024-06-26T07:51:08.958953",
     "status": "completed"
    },
    "tags": []
   },
   "outputs": [],
   "source": [
    "# Notice: You might need to uncomment and install the pydotplus and graphviz libraries if you have not installed these before\n",
    "#!conda install -c conda-forge pydotplus -y\n",
    "#!conda install -c conda-forge python-graphviz -y\n",
    "\n",
    "#After executing the code below, a file named 'tree.png' would be generated which contains the decision tree image."
   ]
  },
  {
   "cell_type": "code",
   "execution_count": 18,
   "id": "438927b9",
   "metadata": {
    "execution": {
     "iopub.execute_input": "2024-06-26T07:51:09.010250Z",
     "iopub.status.busy": "2024-06-26T07:51:09.009732Z",
     "iopub.status.idle": "2024-06-26T07:51:10.431402Z",
     "shell.execute_reply": "2024-06-26T07:51:10.429368Z"
    },
    "papermill": {
     "duration": 1.439411,
     "end_time": "2024-06-26T07:51:10.434620",
     "exception": false,
     "start_time": "2024-06-26T07:51:08.995209",
     "status": "completed"
    },
    "tags": []
   },
   "outputs": [],
   "source": [
    "from sklearn.tree import export_graphviz\n",
    "export_graphviz(drugTree, out_file='tree.dot', filled=True, feature_names=['Age', 'Sex', 'BP', 'Cholesterol', 'Na_to_K'])\n",
    "!dot -Tpng tree.dot -o tree.png\n"
   ]
  }
 ],
 "metadata": {
  "kaggle": {
   "accelerator": "none",
   "dataSources": [],
   "dockerImageVersionId": 30732,
   "isGpuEnabled": false,
   "isInternetEnabled": true,
   "language": "python",
   "sourceType": "notebook"
  },
  "kernelspec": {
   "display_name": "Python 3 (ipykernel)",
   "language": "python",
   "name": "python3"
  },
  "language_info": {
   "codemirror_mode": {
    "name": "ipython",
    "version": 3
   },
   "file_extension": ".py",
   "mimetype": "text/x-python",
   "name": "python",
   "nbconvert_exporter": "python",
   "pygments_lexer": "ipython3",
   "version": "3.10.13"
  },
  "papermill": {
   "default_parameters": {},
   "duration": 10.550221,
   "end_time": "2024-06-26T07:51:11.171646",
   "environment_variables": {},
   "exception": null,
   "input_path": "__notebook__.ipynb",
   "output_path": "__notebook__.ipynb",
   "parameters": {},
   "start_time": "2024-06-26T07:51:00.621425",
   "version": "2.5.0"
  }
 },
 "nbformat": 4,
 "nbformat_minor": 5
}
